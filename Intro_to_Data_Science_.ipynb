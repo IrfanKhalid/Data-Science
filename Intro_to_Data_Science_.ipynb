{
  "nbformat": 4,
  "nbformat_minor": 0,
  "metadata": {
    "colab": {
      "name": "Intro to Data Science .ipynb",
      "version": "0.3.2",
      "provenance": [],
      "include_colab_link": true
    },
    "kernelspec": {
      "display_name": "Python 3",
      "language": "python",
      "name": "python3"
    }
  },
  "cells": [
    {
      "cell_type": "markdown",
      "metadata": {
        "id": "view-in-github",
        "colab_type": "text"
      },
      "source": [
        "[View in Colaboratory](https://colab.research.google.com/github/IrfanKhalid/Data-Science/blob/master/Intro_to_Data_Science_.ipynb)"
      ]
    },
    {
      "metadata": {
        "id": "C7LnkJSBceuG",
        "colab_type": "text"
      },
      "cell_type": "markdown",
      "source": [
        "<img src = \"img/ITU.png\">\n",
        "<h1><center>Data Science Lab</center>\n",
        "<center>Information Technology University, Punjab</center>\n",
        "<center>Homework 2</center></h1>"
      ]
    },
    {
      "metadata": {
        "id": "NKce0cbzceuM",
        "colab_type": "text"
      },
      "cell_type": "markdown",
      "source": [
        "**-**\n",
        "<h3>Instructions:</h3>\n",
        "* The aim of this homework is to give you understanding of Data Science pipeline. \n",
        "* You need to submit a detailed notebook with suitable headings and comments. Do not submit an erroneous notebook.\n",
        "* **Please complete this assignment and submit the complete folder with it's name as your registration number i.e. \"MSDS18###.zip\" on Google Classroom.**\n",
        "* <font color='red'>This is a well drafted assignment, I hope that there would be no need for you to look for solutions on internet. Simply follow the instructions and you would be good to go.</font>\n",
        "**-**"
      ]
    },
    {
      "metadata": {
        "id": "owmYMh7dceuT",
        "colab_type": "text"
      },
      "cell_type": "markdown",
      "source": [
        "## Data Science Pipeline"
      ]
    },
    {
      "metadata": {
        "id": "OVmAUQY9ceuZ",
        "colab_type": "text"
      },
      "cell_type": "markdown",
      "source": [
        "Data is a commodity, but without ways to process it, its value is questionable. Data science is a multidisciplinary field whose goal is to extract value from data in all its forms. This discussion aims to explore the field of data science through data and its structure as well as the high-level process that you can use to transform data into value.\n",
        "\n",
        "Data science is a process. That's not to say it's mechanical and void of creativity. But, when you dig into the stages of processing data, from munging data sources and data cleansing to machine learning and eventually visualization, you see that unique steps are involved in transforming raw data into insight.\n",
        "\n",
        "The steps that you use can also vary (see Figure 1). In exploratory data analysis, you might have a cleansed data set that's ready to import into Python, and you visualize your result but don't deploy the model in a production environment. In another environment, you might be dealing with real-world data and require a process of data merging and cleansing in addition to data scaling and preparation before you can train your machine learning model.\n",
        "\n",
        "<font color='blue'>Figure 1. The Data Science Pipeline</font>\n",
        "<img src=\"img/Figure01.png\">\n",
        "\n",
        "Let's start by digging into the elements of the data science pipeline to understand the process.\n",
        "\n",
        "<h3>Data and its Structure</h3>\n",
        "\n",
        "Data comes in many forms, but at a high level, it falls into three categories: structured, semi-structured, and unstructured (see Figure 2). Structured data is highly organized data that exists within a repository such as a database (or a comma-separated values [CSV] file). The data is easily accessible, and the format of the data makes it appropriate for queries and computation (by using languages such as Structured Query Language (SQL) or Apache™ Hive™). Unstructured data lacks any content structure at all (for example, an audio stream or natural language text). In the middle is semi-structure data, which can include metadata or data that can be more easily processed than unstructured data by using semantic tagging. This data is not fully structured because the lowest-level contents might still represent data that requires some processing to be useful.\n",
        "\n",
        "Figure 2. Models of data\n",
        "<img src=\"img/Figure02.png\">\n",
        "\n",
        "Structured data is the most useful form of data because it can be immediately manipulated. The rule-of-thumb is that structured data represents only 20% of total data. Most of the data in the world (80% of available data) is unstructured or semi-structured.\n",
        "\n",
        "Note that much of what is defined as unstructured data actually has structure (such as a document that has metadata and tags for the content), but the content itself lacks structure and is not immediately usable. Therefore, it is considered unstructured.\n",
        "\n",
        "<h3>Data Engineering</h3>\n",
        "\n",
        "A survey in 2016 found that data scientists spend 80% of their time collecting, cleaning, and preparing data for use in machine learning. The remaining 20% they spend mining or modeling data by using machine learning algorithms. Although it's the least enjoyable part of the process, this data engineering is important and has ramifications for the quality of the results from the machine learning phase.\n",
        "\n",
        "I split data engineering into three parts: wrangling, cleansing, and preparation. Given the drudgery that is involved in this phase, some call this process data munging.\n",
        "\n",
        "<h3>Data Wrangling</h3>\n",
        "\n",
        "Data wrangling, simply defined, is the process of manipulating raw data to make it useful for data analytics or to train a machine learning model. This part of data engineering can include sourcing the data from one or more data sets (in addition to reducing the set to the required data), normalizing the data so that data merged from multiple data sets is consistent, and parsing data into some structure or storage for further use. Consider a public data set from a federal open data website. This data might exist as a spreadsheet file that you would need to export into a format more acceptable to data science languages (CSV or JavaScript Object Notation). The data source might also be a website from which an automated tool scraped the data. Finally, the data could come from multiple sources, which requires that you choose a common format for the resulting data set.\n",
        "\n",
        "This resulting data set would likely require post-processing to support its import into an analytics application (such as the Anaconda Enviornment, the GNU Data Language, or Apache Hadoop). Data wrangling, then, is the process by which you identify, collect, merge, and preprocess one or more data sets in preparation for data cleansing.\n",
        "\n",
        "<h3>Data cleansing</h3>\n",
        "\n",
        "After you have collected and merged your data set, the next step is cleansing. Data sets in the wild are typically messy and infected with any number of common issues, including missing values (or too many values), bad or incorrect delimiters (which segregate the data), inconsistent records, or insufficient parameters. In some cases, the data cannot be repaired and so must be removed; in other cases, it can be manually or automatically corrected.\n",
        "\n",
        "When your data set is syntactically correct, the next step is to ensure that it is semantically correct. In a data set that contains numerical data, you'll have outliers that require closer inspection. You can discover these outliers through statistical analysis, looking at the mean and averages as well as the standard deviation. Searching for outliers is a secondary method of cleansing to ensure that the data is uniform and accurate.\n",
        "\n",
        "<h3>Data preparation</h3>\n",
        "\n",
        "The final step in data engineering is data preparation (or preprocessing). This step assumes that you have a cleansed data set that might not be ready for processing by a machine learning algorithm. Here are a couple of examples where this preparation could apply.\n",
        "\n",
        "In some cases, normalization of data can be useful. Using normalization, you transform an input feature to distribute the data evenly into an acceptable range for the machine learning algorithm. This task can be as simple as linear scaling (from an arbitrary range given a domain minimum and maximum from -1.0 to 1.0). You can also apply more complicated statistical approaches. Data normalization can help you avoid getting stuck in a local optima during the training process (in the context of neural networks).\n",
        "\n",
        "Another useful technique in data preparation is the conversion of categorical data into numerical values. Consider a data set that includes a set of symbols that represent a feature (such as {T0..T5}). As a string, this isn't useful as an input to a neural network, but you can transform it by using a one-of-K scheme (also known as one-hot encoding).\n",
        "\n",
        "In this scheme (illustrated in Figure 3), you identify the number of symbols for the feature — in this case, six — and then create six features to represent the original field. For each symbol, you set just one feature, which allows a proper representation of the distinct elements of the symbol. You pay the price in increased dimensionality, but in doing so, you provide a feature vector that works better for machine learning algorithms.\n",
        "\n",
        "Figure 3. Transforming a string into a one-hot vector\n",
        "<img src=\"img/Figure03.png\">\n",
        "An alternative is integer encoding (where T0 could be value 0, T1 value 1, and so on), but this approach can introduce problems in representation. For example, in a real-valued output, what does 0.5 represent?\n",
        "\n",
        "<h3>Machine learning</h3>\n",
        "\n",
        "In this phase, you create and validate a machine learning model. Sometimes, the machine learning model is the product, which is deployed in the context of an application to provide some capability (such as classification or prediction). In other cases, the machine learning algorithm is just a means to an end. In these cases, the product isn't the trained machine learning algorithm but rather the data that it produces.\n",
        "\n",
        "This section discusses the construction and validation of a machine learning model. You can learn more about machine learning from data in Gaining invaluable insight from clean data sets.\n",
        "\n",
        "<h3>Model learning</h3>\n",
        "\n",
        "The meat of the data science pipeline is the data processing step. In one model, the algorithm can process the data, with a new data product as the result. But, in a production sense, the machine learning model is the product itself, deployed to provide insight or add value (such as the deployment of a neural network to provide prediction capabilities for an insurance market).\n",
        "\n",
        "Machine learning approaches are vast and varied, as shown in Figure 4. This small list of machine learning algorithms (segregated by learning model) illustrates the richness of the capabilities that are provided through machine learning.\n",
        "\n",
        "Figure 4. Machine learning approaches\n",
        "<img src=\"img/Figure04.png\">\n",
        "\n",
        "Supervised learning, as the name suggests, is driven by a critic that provides the means to alter the model based on its result. Given a data set with a class (that is, a dependent variable), the algorithm is trained to produce the correct class and alter the model when it fails to do so. The model is trained until it reaches some level of accuracy, at which point you could deploy it to provide prediction for unseen data.\n",
        "\n",
        "In contrast, unsupervised learning has no class; instead, it inspects the data and groups it based on some structure that is hidden within the data. You could apply these types of algorithms in recommendation systems by grouping customers based on the viewing or purchasing history.\n",
        "\n",
        "Finally, reinforcement learning is a semi-supervised learning algorithm that provides a reward after the model makes some number of decisions that lead to a satisfactory result. This type of model is used to create agents that act rationally in some state/action space (such as a poker-playing agent).\n",
        "\n",
        "We would limit our scope to the above points and skip Model Validation and Model Deployment for now."
      ]
    },
    {
      "metadata": {
        "id": "qs6421oSceue",
        "colab_type": "text"
      },
      "cell_type": "markdown",
      "source": [
        "### Please read the above Text and Answer the Questions"
      ]
    },
    {
      "metadata": {
        "id": "joyqiBzgceul",
        "colab_type": "text"
      },
      "cell_type": "markdown",
      "source": [
        "**Please edit this cell and paste your answer here:**\n",
        "\n",
        "Example:\n",
        "Q 20) A\n",
        "\n",
        "Q 1) A\n",
        "\n",
        "Q 2) A\n",
        "\n",
        "Q 3) B\n",
        "\n",
        "Q 4) D\n",
        "\n",
        "Q 5) A \n",
        "\n",
        "Q 6) E\n",
        "\n",
        "Q 7) D\n",
        "\n",
        "Q 8) A\n",
        "\n",
        "Q 9) D\n",
        "\n",
        "Q 10) A\n",
        "\n",
        "Q 11) E\n"
      ]
    },
    {
      "metadata": {
        "id": "HWzQZ3iBceuq",
        "colab_type": "text"
      },
      "cell_type": "markdown",
      "source": [
        "##### Q 1) CSV file is an example of which type of data:\n",
        "> a) Structured Data\n",
        "<br>\n",
        "> b) Semi-Structured Data\n",
        "<br>\n",
        "> c) Unstructured Data\n",
        "<br>\n",
        "> d) Relational Data"
      ]
    },
    {
      "metadata": {
        "id": "oHGYtbNvceux",
        "colab_type": "text"
      },
      "cell_type": "markdown",
      "source": [
        "##### Q 2) Which of the following data can be queried using SQL or Hive.\n",
        "> a) Structured Data\n",
        "<br>\n",
        "> b) Semi-Structured Data\n",
        "<br>\n",
        "> c) Unstructured Data\n",
        "<br>\n",
        "> d) None"
      ]
    },
    {
      "metadata": {
        "id": "wK3y5NqCceu2",
        "colab_type": "text"
      },
      "cell_type": "markdown",
      "source": [
        "##### Q 3) Semantic tagging is a technique used to easily process which data\n",
        "> a) Structured Data\n",
        "<br>\n",
        "> b) Semi-Structured Data\n",
        "<br>\n",
        "> c) Unstructured Data\n",
        "<br>\n",
        "> d) Relational Data"
      ]
    },
    {
      "metadata": {
        "id": "_FGWMJtwceu8",
        "colab_type": "text"
      },
      "cell_type": "markdown",
      "source": [
        "##### Q 4) According to a survey in 2016, data scientists spend 20% of their time\n",
        "> a) Collecting Data\n",
        "<br>\n",
        "> b) Cleaning Data\n",
        "<br>\n",
        "> c) Preparing Data\n",
        "<br>\n",
        "> d) Modelling Data"
      ]
    },
    {
      "metadata": {
        "id": "9o0z3UxrcevC",
        "colab_type": "text"
      },
      "cell_type": "markdown",
      "source": [
        "##### Q5) Process of manipulating raw data to make it useful for data analytics or to train a machine learning model is called\n",
        "> a) Data Wrangling\n",
        "<br>\n",
        "> b) Data Cleansing\n",
        "<br>\n",
        "> c) Data Preparation\n",
        "<br>\n",
        "> d) Data Modeling"
      ]
    },
    {
      "metadata": {
        "id": "hB23R53QcevH",
        "colab_type": "text"
      },
      "cell_type": "markdown",
      "source": [
        "##### Q6) Which of the following are data cleaning issues?\n",
        "> a) Missing Values\n",
        "<br>\n",
        "> b) Incorrect Delimiters\n",
        "<br>\n",
        "> c) Inconsistent Records\n",
        "<br>\n",
        "> d) Outliers\n",
        "<br>\n",
        "> e) All of the mentioned"
      ]
    },
    {
      "metadata": {
        "id": "-HsG86wEcevN",
        "colab_type": "text"
      },
      "cell_type": "markdown",
      "source": [
        "##### Q7) Which of the following is a way to detect outliers.\n",
        "\n",
        "> a) Looking at mean and standard deviation\n",
        "<br>\n",
        "> b) Looking at distribution of data\n",
        "<br>\n",
        "> c) Plotting using Box Plot\n",
        "<br>\n",
        "> d) All of the mentioned"
      ]
    },
    {
      "metadata": {
        "id": "XK8qNQlkcevT",
        "colab_type": "text"
      },
      "cell_type": "markdown",
      "source": [
        "##### Q 8) Transforming an input feature to distribute the data evenly into an acceptable range is called\n",
        "> a) Normalization\n",
        "<br>\n",
        "> b) Modelling\n",
        "<br>\n",
        "> c) Standardization\n",
        "<br>\n",
        "> d) One-Hot Encoding\n",
        "<br>\n",
        "> e) None of the mentioned "
      ]
    },
    {
      "metadata": {
        "id": "v-afEcYfcevZ",
        "colab_type": "text"
      },
      "cell_type": "markdown",
      "source": [
        "##### Q 9) Transforming an input feature so that, it have zero mean and unit variance.\n",
        "> a) Normalization\n",
        "<br>\n",
        "> b) Modelling\n",
        "<br>\n",
        "> c) Scaling\n",
        "<br>\n",
        "> d) Standardization\n",
        "<br>\n",
        "> e) One-Hot Encoding\n",
        "<br>\n",
        "> f) None of the mentioned "
      ]
    },
    {
      "metadata": {
        "id": "5nOnqf6ocevc",
        "colab_type": "text"
      },
      "cell_type": "markdown",
      "source": [
        "##### Q 10) Which of the following is a pre-processing technique that is useful to avoid getting stuck in local optima during the training phase(in context of neural network)?\n",
        "> a) Normalization\n",
        "<br>\n",
        "> b) Modelling\n",
        "<br>\n",
        "> c) Standardization\n",
        "<br>\n",
        "> d) One-Hot Encoding\n",
        "<br>\n",
        "> e) None of the mentioned "
      ]
    },
    {
      "metadata": {
        "id": "mz0Lv2e8cevf",
        "colab_type": "text"
      },
      "cell_type": "markdown",
      "source": [
        "##### Q 11) Which of the following is a pre-processing technique that converts categorical data into numerical?\n",
        "> a) Normalization\n",
        "<br>\n",
        "> b) Modelling\n",
        "<br>\n",
        "> c) Scaling\n",
        "<br>\n",
        "> d) Standardization\n",
        "<br>\n",
        "> e) One-Hot Encoding\n",
        "<br>\n",
        "> f) None of the mentioned "
      ]
    },
    {
      "metadata": {
        "id": "DRWmSUEFcevj",
        "colab_type": "text"
      },
      "cell_type": "markdown",
      "source": [
        "##### Q 12) In the section \"Machine Learning\", a machine learning model is said to have capability to classify and predict. Could you differentiate between classification and prediction with suitable examples?"
      ]
    },
    {
      "metadata": {
        "id": "5BhKBuTIcevm",
        "colab_type": "code",
        "colab": {},
        "collapsed": true,
        "outputId": "6f610a3a-382e-4d89-a638-6688e9a2e56d"
      },
      "cell_type": "code",
      "source": [
        "Classification means we classify dataset into multiple classes according to their features, than  we distribute all the upcoming data \n",
        "according to those features, we used it for Nominal and Categorical output.\n",
        "Prediction is usually termed as Regression as well, It is to prdict numerical data."
      ],
      "execution_count": 0,
      "outputs": [
        {
          "output_type": "error",
          "ename": "SyntaxError",
          "evalue": "invalid syntax (<ipython-input-2-562c234393c4>, line 1)",
          "traceback": [
            "\u001b[1;36m  File \u001b[1;32m\"<ipython-input-2-562c234393c4>\"\u001b[1;36m, line \u001b[1;32m1\u001b[0m\n\u001b[1;33m    Classification means we classify dataset into multiple classes according to their features, than  we distribute all the upcoming data\u001b[0m\n\u001b[1;37m                       ^\u001b[0m\n\u001b[1;31mSyntaxError\u001b[0m\u001b[1;31m:\u001b[0m invalid syntax\n"
          ]
        }
      ]
    },
    {
      "metadata": {
        "id": "L-_fwGa8cewH",
        "colab_type": "text"
      },
      "cell_type": "markdown",
      "source": [
        "##### Q 13) Machine learning is majorly divided into three categories; supervised, unsupervised and reinforcement learning. Differentiate between these three with suitable examples? Please do not copy from the text provided, show your understanding."
      ]
    },
    {
      "metadata": {
        "id": "y9MOlvCncewM",
        "colab_type": "code",
        "colab": {},
        "outputId": "69c7131f-53e0-45e7-ff75-323b0567d2b4"
      },
      "cell_type": "code",
      "source": [
        "Supervised Learning: This technique involves labbeled output for learning, 1) Identification of Tumor in human body is common example \n",
        "    to classify healthy and sick people. 2) House Price Prediction\n",
        "Unsupervised Learning: This technique involves statistical methods like Euclidian Distance to categorize unlabbeled data.  \n",
        "    1)Grouping customers by purchasing behavior\n",
        "Reinforcement Learning: This technique involves reward and punishment, In case of correct outcome, it gets rewarded so it learn this way.\n",
        "    1) Game Agent for GO, Chess\n"
      ],
      "execution_count": 0,
      "outputs": [
        {
          "output_type": "error",
          "ename": "SyntaxError",
          "evalue": "invalid syntax (<ipython-input-3-5124624a6453>, line 1)",
          "traceback": [
            "\u001b[1;36m  File \u001b[1;32m\"<ipython-input-3-5124624a6453>\"\u001b[1;36m, line \u001b[1;32m1\u001b[0m\n\u001b[1;33m    Supervised Learning: This technique involves labbeled output for learning, 1) Identification of Tumor in human body is common example\u001b[0m\n\u001b[1;37m                      ^\u001b[0m\n\u001b[1;31mSyntaxError\u001b[0m\u001b[1;31m:\u001b[0m invalid syntax\n"
          ]
        }
      ]
    },
    {
      "metadata": {
        "id": "_fH0b_S_cewi",
        "colab_type": "text"
      },
      "cell_type": "markdown",
      "source": [
        "# Case Study"
      ]
    },
    {
      "metadata": {
        "id": "QDbMFXd6cewl",
        "colab_type": "text"
      },
      "cell_type": "markdown",
      "source": [
        "<h2>Titanic: Machine Learning From Disaster</h2>"
      ]
    },
    {
      "metadata": {
        "id": "3Dl5avJ8cewp",
        "colab_type": "text"
      },
      "cell_type": "markdown",
      "source": [
        "<img src = \"img/titanic_ship.jpg\" >"
      ]
    },
    {
      "metadata": {
        "id": "qrbbQY9Ccews",
        "colab_type": "text"
      },
      "cell_type": "markdown",
      "source": [
        "### Description"
      ]
    },
    {
      "metadata": {
        "id": "bgIrD_cgceww",
        "colab_type": "text"
      },
      "cell_type": "markdown",
      "source": [
        "The sinking of the RMS Titanic is one of the most infamous shipwrecks in history.  On April 15, 1912, during her maiden voyage, the Titanic sank after colliding with an iceberg, killing 1502 out of 2224 passengers and crew. This sensational tragedy shocked the international community and led to better safety regulations for ships.\n",
        "\n",
        "One of the reasons that the shipwreck led to such loss of life was that there were not enough lifeboats for the passengers and crew. Although there was some element of luck involved in surviving the sinking, some groups of people were more likely to survive than others, such as women, children, and the upper-class.\n",
        "\n",
        "In this challenge, we ask you to complete the analysis of what sorts of people were likely to survive. In particular, we ask you to apply the tools of machine learning to predict which passengers survived the tragedy.\n"
      ]
    },
    {
      "metadata": {
        "id": "nCs2Vm_Tcewy",
        "colab_type": "text"
      },
      "cell_type": "markdown",
      "source": [
        "### Overview"
      ]
    },
    {
      "metadata": {
        "id": "TBcJ5NPScew2",
        "colab_type": "text"
      },
      "cell_type": "markdown",
      "source": [
        "The data has been provided as a single training file:\n",
        "\n",
        "* training set (train.csv)\n",
        "\n",
        "The **training set** should be used to build your machine learning models. For the training set, we provide the outcome (also known as the “ground truth”) for each passenger. Your model will be based on “features” like passengers’ gender and class."
      ]
    },
    {
      "metadata": {
        "id": "7nYBAKJecew7",
        "colab_type": "text"
      },
      "cell_type": "markdown",
      "source": [
        "### Data Dictionary"
      ]
    },
    {
      "metadata": {
        "id": "k-QoK6pmcexA",
        "colab_type": "text"
      },
      "cell_type": "markdown",
      "source": [
        "|<h3>**Variable**</h3>|<h3>**Definition**</h3>|<h3>**Key**</h3>|\n",
        "|:-|:-|:-|\n",
        "|PassengerId|Unique Identifier of each passenger||\n",
        "|Survived|Survival|0 = No, 1 = Yes|\n",
        "|Pclass|Ticket class|1 = 1st, 2 = 2nd, 3 = 3rd|\n",
        "|Name|Name of Passenger||\n",
        "|Sex|Gender||\n",
        "|Age|Age in years||\n",
        "|SibSp|# of siblings / spouses aboard the Titanic||\n",
        "|Parch|# of parents / children aboard the Titanic||\n",
        "|Ticket|Ticket number||\n",
        "|Fare|Passenger fare||\n",
        "|Cabin|Cabin number||\n",
        "|Embarked|Port of Embarkation|C = Cherbourg, Q = Queenstown, S = Southampton|"
      ]
    },
    {
      "metadata": {
        "id": "BkM2bBvtcexF",
        "colab_type": "text"
      },
      "cell_type": "markdown",
      "source": [
        "* Detail of some of the variables is provided. You need to explore rest of the varibles yourself."
      ]
    },
    {
      "metadata": {
        "id": "r-b85BQDcexK",
        "colab_type": "text"
      },
      "cell_type": "markdown",
      "source": [
        "#### Import Libraries"
      ]
    },
    {
      "metadata": {
        "id": "MosXr7YZcexN",
        "colab_type": "code",
        "colab": {}
      },
      "cell_type": "code",
      "source": [
        "###\n",
        "### Please import all the libraries in this block\n",
        "import numpy as np\n",
        "import pandas as pd\n",
        "import matplotlib.pyplot as plt\n",
        "import seaborn as sns; sns.set(style=\"ticks\", color_codes=True)\n",
        "import os\n",
        "#import plotly as plt\n",
        "import matplotlib.gridspec as gridspec\n",
        "%matplotlib inline\n"
      ],
      "execution_count": 0,
      "outputs": []
    },
    {
      "metadata": {
        "id": "bC0iOtV2cexY",
        "colab_type": "text"
      },
      "cell_type": "markdown",
      "source": [
        "#### Read Data"
      ]
    },
    {
      "metadata": {
        "id": "8TxdwXHLcexb",
        "colab_type": "code",
        "colab": {}
      },
      "cell_type": "code",
      "source": [
        "### \n",
        "### Using pandas library read the data in a dataframe\n",
        "### Write your code here\n",
        "train=pd.read_csv('train.csv')"
      ],
      "execution_count": 0,
      "outputs": []
    },
    {
      "metadata": {
        "id": "8_UHAdVLcexl",
        "colab_type": "text"
      },
      "cell_type": "markdown",
      "source": [
        "#### Dimensions of Data"
      ]
    },
    {
      "metadata": {
        "id": "G3RyS65Ecexq",
        "colab_type": "code",
        "colab": {},
        "outputId": "221c05e1-3c44-47b5-bae8-0a83f4df37dc"
      },
      "cell_type": "code",
      "source": [
        "### \n",
        "### Print Number of Rows and Columns in the dataset\n",
        "train.shape"
      ],
      "execution_count": 0,
      "outputs": [
        {
          "output_type": "execute_result",
          "data": {
            "text/plain": [
              "(891, 12)"
            ]
          },
          "metadata": {
            "tags": []
          },
          "execution_count": 8
        }
      ]
    },
    {
      "metadata": {
        "id": "PX0V1UZCceyI",
        "colab_type": "text"
      },
      "cell_type": "markdown",
      "source": [
        "#### Peak at the Data"
      ]
    },
    {
      "metadata": {
        "id": "OdQsMODbceyN",
        "colab_type": "code",
        "colab": {},
        "outputId": "08b2e634-bc8f-46f7-dd26-ff121be6303d"
      },
      "cell_type": "code",
      "source": [
        "###\n",
        "### Print first 10 and last 10 rows of the data\n",
        "### Write your code here\n",
        "train.head(10) "
      ],
      "execution_count": 0,
      "outputs": [
        {
          "output_type": "execute_result",
          "data": {
            "text/html": [
              "<div>\n",
              "<style scoped>\n",
              "    .dataframe tbody tr th:only-of-type {\n",
              "        vertical-align: middle;\n",
              "    }\n",
              "\n",
              "    .dataframe tbody tr th {\n",
              "        vertical-align: top;\n",
              "    }\n",
              "\n",
              "    .dataframe thead th {\n",
              "        text-align: right;\n",
              "    }\n",
              "</style>\n",
              "<table border=\"1\" class=\"dataframe\">\n",
              "  <thead>\n",
              "    <tr style=\"text-align: right;\">\n",
              "      <th></th>\n",
              "      <th>PassengerId</th>\n",
              "      <th>Survived</th>\n",
              "      <th>Pclass</th>\n",
              "      <th>Name</th>\n",
              "      <th>Sex</th>\n",
              "      <th>Age</th>\n",
              "      <th>SibSp</th>\n",
              "      <th>Parch</th>\n",
              "      <th>Ticket</th>\n",
              "      <th>Fare</th>\n",
              "      <th>Cabin</th>\n",
              "      <th>Embarked</th>\n",
              "    </tr>\n",
              "  </thead>\n",
              "  <tbody>\n",
              "    <tr>\n",
              "      <th>0</th>\n",
              "      <td>1</td>\n",
              "      <td>0</td>\n",
              "      <td>3</td>\n",
              "      <td>Braund, Mr. Owen Harris</td>\n",
              "      <td>male</td>\n",
              "      <td>22.0</td>\n",
              "      <td>1</td>\n",
              "      <td>0</td>\n",
              "      <td>A/5 21171</td>\n",
              "      <td>7.2500</td>\n",
              "      <td>NaN</td>\n",
              "      <td>S</td>\n",
              "    </tr>\n",
              "    <tr>\n",
              "      <th>1</th>\n",
              "      <td>2</td>\n",
              "      <td>1</td>\n",
              "      <td>1</td>\n",
              "      <td>Cumings, Mrs. John Bradley (Florence Briggs Th...</td>\n",
              "      <td>female</td>\n",
              "      <td>38.0</td>\n",
              "      <td>1</td>\n",
              "      <td>0</td>\n",
              "      <td>PC 17599</td>\n",
              "      <td>71.2833</td>\n",
              "      <td>C85</td>\n",
              "      <td>C</td>\n",
              "    </tr>\n",
              "    <tr>\n",
              "      <th>2</th>\n",
              "      <td>3</td>\n",
              "      <td>1</td>\n",
              "      <td>3</td>\n",
              "      <td>Heikkinen, Miss. Laina</td>\n",
              "      <td>female</td>\n",
              "      <td>26.0</td>\n",
              "      <td>0</td>\n",
              "      <td>0</td>\n",
              "      <td>STON/O2. 3101282</td>\n",
              "      <td>7.9250</td>\n",
              "      <td>NaN</td>\n",
              "      <td>S</td>\n",
              "    </tr>\n",
              "    <tr>\n",
              "      <th>3</th>\n",
              "      <td>4</td>\n",
              "      <td>1</td>\n",
              "      <td>1</td>\n",
              "      <td>Futrelle, Mrs. Jacques Heath (Lily May Peel)</td>\n",
              "      <td>female</td>\n",
              "      <td>35.0</td>\n",
              "      <td>1</td>\n",
              "      <td>0</td>\n",
              "      <td>113803</td>\n",
              "      <td>53.1000</td>\n",
              "      <td>C123</td>\n",
              "      <td>S</td>\n",
              "    </tr>\n",
              "    <tr>\n",
              "      <th>4</th>\n",
              "      <td>5</td>\n",
              "      <td>0</td>\n",
              "      <td>3</td>\n",
              "      <td>Allen, Mr. William Henry</td>\n",
              "      <td>male</td>\n",
              "      <td>35.0</td>\n",
              "      <td>0</td>\n",
              "      <td>0</td>\n",
              "      <td>373450</td>\n",
              "      <td>8.0500</td>\n",
              "      <td>NaN</td>\n",
              "      <td>S</td>\n",
              "    </tr>\n",
              "    <tr>\n",
              "      <th>5</th>\n",
              "      <td>6</td>\n",
              "      <td>0</td>\n",
              "      <td>3</td>\n",
              "      <td>Moran, Mr. James</td>\n",
              "      <td>male</td>\n",
              "      <td>NaN</td>\n",
              "      <td>0</td>\n",
              "      <td>0</td>\n",
              "      <td>330877</td>\n",
              "      <td>8.4583</td>\n",
              "      <td>NaN</td>\n",
              "      <td>Q</td>\n",
              "    </tr>\n",
              "    <tr>\n",
              "      <th>6</th>\n",
              "      <td>7</td>\n",
              "      <td>0</td>\n",
              "      <td>1</td>\n",
              "      <td>McCarthy, Mr. Timothy J</td>\n",
              "      <td>male</td>\n",
              "      <td>54.0</td>\n",
              "      <td>0</td>\n",
              "      <td>0</td>\n",
              "      <td>17463</td>\n",
              "      <td>51.8625</td>\n",
              "      <td>E46</td>\n",
              "      <td>S</td>\n",
              "    </tr>\n",
              "    <tr>\n",
              "      <th>7</th>\n",
              "      <td>8</td>\n",
              "      <td>0</td>\n",
              "      <td>3</td>\n",
              "      <td>Palsson, Master. Gosta Leonard</td>\n",
              "      <td>male</td>\n",
              "      <td>2.0</td>\n",
              "      <td>3</td>\n",
              "      <td>1</td>\n",
              "      <td>349909</td>\n",
              "      <td>21.0750</td>\n",
              "      <td>NaN</td>\n",
              "      <td>S</td>\n",
              "    </tr>\n",
              "    <tr>\n",
              "      <th>8</th>\n",
              "      <td>9</td>\n",
              "      <td>1</td>\n",
              "      <td>3</td>\n",
              "      <td>Johnson, Mrs. Oscar W (Elisabeth Vilhelmina Berg)</td>\n",
              "      <td>female</td>\n",
              "      <td>27.0</td>\n",
              "      <td>0</td>\n",
              "      <td>2</td>\n",
              "      <td>347742</td>\n",
              "      <td>11.1333</td>\n",
              "      <td>NaN</td>\n",
              "      <td>S</td>\n",
              "    </tr>\n",
              "    <tr>\n",
              "      <th>9</th>\n",
              "      <td>10</td>\n",
              "      <td>1</td>\n",
              "      <td>2</td>\n",
              "      <td>Nasser, Mrs. Nicholas (Adele Achem)</td>\n",
              "      <td>female</td>\n",
              "      <td>14.0</td>\n",
              "      <td>1</td>\n",
              "      <td>0</td>\n",
              "      <td>237736</td>\n",
              "      <td>30.0708</td>\n",
              "      <td>NaN</td>\n",
              "      <td>C</td>\n",
              "    </tr>\n",
              "  </tbody>\n",
              "</table>\n",
              "</div>"
            ],
            "text/plain": [
              "   PassengerId  Survived  Pclass  \\\n",
              "0            1         0       3   \n",
              "1            2         1       1   \n",
              "2            3         1       3   \n",
              "3            4         1       1   \n",
              "4            5         0       3   \n",
              "5            6         0       3   \n",
              "6            7         0       1   \n",
              "7            8         0       3   \n",
              "8            9         1       3   \n",
              "9           10         1       2   \n",
              "\n",
              "                                                Name     Sex   Age  SibSp  \\\n",
              "0                            Braund, Mr. Owen Harris    male  22.0      1   \n",
              "1  Cumings, Mrs. John Bradley (Florence Briggs Th...  female  38.0      1   \n",
              "2                             Heikkinen, Miss. Laina  female  26.0      0   \n",
              "3       Futrelle, Mrs. Jacques Heath (Lily May Peel)  female  35.0      1   \n",
              "4                           Allen, Mr. William Henry    male  35.0      0   \n",
              "5                                   Moran, Mr. James    male   NaN      0   \n",
              "6                            McCarthy, Mr. Timothy J    male  54.0      0   \n",
              "7                     Palsson, Master. Gosta Leonard    male   2.0      3   \n",
              "8  Johnson, Mrs. Oscar W (Elisabeth Vilhelmina Berg)  female  27.0      0   \n",
              "9                Nasser, Mrs. Nicholas (Adele Achem)  female  14.0      1   \n",
              "\n",
              "   Parch            Ticket     Fare Cabin Embarked  \n",
              "0      0         A/5 21171   7.2500   NaN        S  \n",
              "1      0          PC 17599  71.2833   C85        C  \n",
              "2      0  STON/O2. 3101282   7.9250   NaN        S  \n",
              "3      0            113803  53.1000  C123        S  \n",
              "4      0            373450   8.0500   NaN        S  \n",
              "5      0            330877   8.4583   NaN        Q  \n",
              "6      0             17463  51.8625   E46        S  \n",
              "7      1            349909  21.0750   NaN        S  \n",
              "8      2            347742  11.1333   NaN        S  \n",
              "9      0            237736  30.0708   NaN        C  "
            ]
          },
          "metadata": {
            "tags": []
          },
          "execution_count": 10
        }
      ]
    },
    {
      "metadata": {
        "id": "RPXL_-qxceym",
        "colab_type": "code",
        "colab": {},
        "outputId": "3d0ef9d7-ea87-4f82-a19f-a6073c9f8db8"
      },
      "cell_type": "code",
      "source": [
        "train.tail(10)"
      ],
      "execution_count": 0,
      "outputs": [
        {
          "output_type": "execute_result",
          "data": {
            "text/html": [
              "<div>\n",
              "<style scoped>\n",
              "    .dataframe tbody tr th:only-of-type {\n",
              "        vertical-align: middle;\n",
              "    }\n",
              "\n",
              "    .dataframe tbody tr th {\n",
              "        vertical-align: top;\n",
              "    }\n",
              "\n",
              "    .dataframe thead th {\n",
              "        text-align: right;\n",
              "    }\n",
              "</style>\n",
              "<table border=\"1\" class=\"dataframe\">\n",
              "  <thead>\n",
              "    <tr style=\"text-align: right;\">\n",
              "      <th></th>\n",
              "      <th>PassengerId</th>\n",
              "      <th>Survived</th>\n",
              "      <th>Pclass</th>\n",
              "      <th>Name</th>\n",
              "      <th>Sex</th>\n",
              "      <th>Age</th>\n",
              "      <th>SibSp</th>\n",
              "      <th>Parch</th>\n",
              "      <th>Ticket</th>\n",
              "      <th>Fare</th>\n",
              "      <th>Cabin</th>\n",
              "      <th>Embarked</th>\n",
              "    </tr>\n",
              "  </thead>\n",
              "  <tbody>\n",
              "    <tr>\n",
              "      <th>881</th>\n",
              "      <td>882</td>\n",
              "      <td>0</td>\n",
              "      <td>3</td>\n",
              "      <td>Markun, Mr. Johann</td>\n",
              "      <td>male</td>\n",
              "      <td>33.0</td>\n",
              "      <td>0</td>\n",
              "      <td>0</td>\n",
              "      <td>349257</td>\n",
              "      <td>7.8958</td>\n",
              "      <td>NaN</td>\n",
              "      <td>S</td>\n",
              "    </tr>\n",
              "    <tr>\n",
              "      <th>882</th>\n",
              "      <td>883</td>\n",
              "      <td>0</td>\n",
              "      <td>3</td>\n",
              "      <td>Dahlberg, Miss. Gerda Ulrika</td>\n",
              "      <td>female</td>\n",
              "      <td>22.0</td>\n",
              "      <td>0</td>\n",
              "      <td>0</td>\n",
              "      <td>7552</td>\n",
              "      <td>10.5167</td>\n",
              "      <td>NaN</td>\n",
              "      <td>S</td>\n",
              "    </tr>\n",
              "    <tr>\n",
              "      <th>883</th>\n",
              "      <td>884</td>\n",
              "      <td>0</td>\n",
              "      <td>2</td>\n",
              "      <td>Banfield, Mr. Frederick James</td>\n",
              "      <td>male</td>\n",
              "      <td>28.0</td>\n",
              "      <td>0</td>\n",
              "      <td>0</td>\n",
              "      <td>C.A./SOTON 34068</td>\n",
              "      <td>10.5000</td>\n",
              "      <td>NaN</td>\n",
              "      <td>S</td>\n",
              "    </tr>\n",
              "    <tr>\n",
              "      <th>884</th>\n",
              "      <td>885</td>\n",
              "      <td>0</td>\n",
              "      <td>3</td>\n",
              "      <td>Sutehall, Mr. Henry Jr</td>\n",
              "      <td>male</td>\n",
              "      <td>25.0</td>\n",
              "      <td>0</td>\n",
              "      <td>0</td>\n",
              "      <td>SOTON/OQ 392076</td>\n",
              "      <td>7.0500</td>\n",
              "      <td>NaN</td>\n",
              "      <td>S</td>\n",
              "    </tr>\n",
              "    <tr>\n",
              "      <th>885</th>\n",
              "      <td>886</td>\n",
              "      <td>0</td>\n",
              "      <td>3</td>\n",
              "      <td>Rice, Mrs. William (Margaret Norton)</td>\n",
              "      <td>female</td>\n",
              "      <td>39.0</td>\n",
              "      <td>0</td>\n",
              "      <td>5</td>\n",
              "      <td>382652</td>\n",
              "      <td>29.1250</td>\n",
              "      <td>NaN</td>\n",
              "      <td>Q</td>\n",
              "    </tr>\n",
              "    <tr>\n",
              "      <th>886</th>\n",
              "      <td>887</td>\n",
              "      <td>0</td>\n",
              "      <td>2</td>\n",
              "      <td>Montvila, Rev. Juozas</td>\n",
              "      <td>male</td>\n",
              "      <td>27.0</td>\n",
              "      <td>0</td>\n",
              "      <td>0</td>\n",
              "      <td>211536</td>\n",
              "      <td>13.0000</td>\n",
              "      <td>NaN</td>\n",
              "      <td>S</td>\n",
              "    </tr>\n",
              "    <tr>\n",
              "      <th>887</th>\n",
              "      <td>888</td>\n",
              "      <td>1</td>\n",
              "      <td>1</td>\n",
              "      <td>Graham, Miss. Margaret Edith</td>\n",
              "      <td>female</td>\n",
              "      <td>19.0</td>\n",
              "      <td>0</td>\n",
              "      <td>0</td>\n",
              "      <td>112053</td>\n",
              "      <td>30.0000</td>\n",
              "      <td>B42</td>\n",
              "      <td>S</td>\n",
              "    </tr>\n",
              "    <tr>\n",
              "      <th>888</th>\n",
              "      <td>889</td>\n",
              "      <td>0</td>\n",
              "      <td>3</td>\n",
              "      <td>Johnston, Miss. Catherine Helen \"Carrie\"</td>\n",
              "      <td>female</td>\n",
              "      <td>NaN</td>\n",
              "      <td>1</td>\n",
              "      <td>2</td>\n",
              "      <td>W./C. 6607</td>\n",
              "      <td>23.4500</td>\n",
              "      <td>NaN</td>\n",
              "      <td>S</td>\n",
              "    </tr>\n",
              "    <tr>\n",
              "      <th>889</th>\n",
              "      <td>890</td>\n",
              "      <td>1</td>\n",
              "      <td>1</td>\n",
              "      <td>Behr, Mr. Karl Howell</td>\n",
              "      <td>male</td>\n",
              "      <td>26.0</td>\n",
              "      <td>0</td>\n",
              "      <td>0</td>\n",
              "      <td>111369</td>\n",
              "      <td>30.0000</td>\n",
              "      <td>C148</td>\n",
              "      <td>C</td>\n",
              "    </tr>\n",
              "    <tr>\n",
              "      <th>890</th>\n",
              "      <td>891</td>\n",
              "      <td>0</td>\n",
              "      <td>3</td>\n",
              "      <td>Dooley, Mr. Patrick</td>\n",
              "      <td>male</td>\n",
              "      <td>32.0</td>\n",
              "      <td>0</td>\n",
              "      <td>0</td>\n",
              "      <td>370376</td>\n",
              "      <td>7.7500</td>\n",
              "      <td>NaN</td>\n",
              "      <td>Q</td>\n",
              "    </tr>\n",
              "  </tbody>\n",
              "</table>\n",
              "</div>"
            ],
            "text/plain": [
              "     PassengerId  Survived  Pclass                                      Name  \\\n",
              "881          882         0       3                        Markun, Mr. Johann   \n",
              "882          883         0       3              Dahlberg, Miss. Gerda Ulrika   \n",
              "883          884         0       2             Banfield, Mr. Frederick James   \n",
              "884          885         0       3                    Sutehall, Mr. Henry Jr   \n",
              "885          886         0       3      Rice, Mrs. William (Margaret Norton)   \n",
              "886          887         0       2                     Montvila, Rev. Juozas   \n",
              "887          888         1       1              Graham, Miss. Margaret Edith   \n",
              "888          889         0       3  Johnston, Miss. Catherine Helen \"Carrie\"   \n",
              "889          890         1       1                     Behr, Mr. Karl Howell   \n",
              "890          891         0       3                       Dooley, Mr. Patrick   \n",
              "\n",
              "        Sex   Age  SibSp  Parch            Ticket     Fare Cabin Embarked  \n",
              "881    male  33.0      0      0            349257   7.8958   NaN        S  \n",
              "882  female  22.0      0      0              7552  10.5167   NaN        S  \n",
              "883    male  28.0      0      0  C.A./SOTON 34068  10.5000   NaN        S  \n",
              "884    male  25.0      0      0   SOTON/OQ 392076   7.0500   NaN        S  \n",
              "885  female  39.0      0      5            382652  29.1250   NaN        Q  \n",
              "886    male  27.0      0      0            211536  13.0000   NaN        S  \n",
              "887  female  19.0      0      0            112053  30.0000   B42        S  \n",
              "888  female   NaN      1      2        W./C. 6607  23.4500   NaN        S  \n",
              "889    male  26.0      0      0            111369  30.0000  C148        C  \n",
              "890    male  32.0      0      0            370376   7.7500   NaN        Q  "
            ]
          },
          "metadata": {
            "tags": []
          },
          "execution_count": 11
        }
      ]
    },
    {
      "metadata": {
        "id": "wmdDj-TmcezA",
        "colab_type": "text"
      },
      "cell_type": "markdown",
      "source": [
        "#### Attributes in Data"
      ]
    },
    {
      "metadata": {
        "id": "b--pd5rFcezG",
        "colab_type": "code",
        "colab": {},
        "outputId": "455e6af3-7197-4a48-8960-192911456797"
      },
      "cell_type": "code",
      "source": [
        "###\n",
        "### Print all the attribute/column names\n",
        "train.columns.get_values()"
      ],
      "execution_count": 0,
      "outputs": [
        {
          "output_type": "execute_result",
          "data": {
            "text/plain": [
              "array(['PassengerId', 'Survived', 'Pclass', 'Name', 'Sex', 'Age', 'SibSp',\n",
              "       'Parch', 'Ticket', 'Fare', 'Cabin', 'Embarked'], dtype=object)"
            ]
          },
          "metadata": {
            "tags": []
          },
          "execution_count": 12
        }
      ]
    },
    {
      "metadata": {
        "id": "X7MZ_ie9cezh",
        "colab_type": "text"
      },
      "cell_type": "markdown",
      "source": [
        "#### Data types of Attributes"
      ]
    },
    {
      "metadata": {
        "id": "nvo5NlBqcezm",
        "colab_type": "code",
        "colab": {},
        "outputId": "d8340917-f800-4cbd-e152-e4cf80d39087"
      },
      "cell_type": "code",
      "source": [
        "###\n",
        "### Print datatypes of all attributes\n",
        "### Separate Discrete and Continuous Attributes programmatically\n",
        "print(train.info())\n",
        "print(train.get_dtype_counts())"
      ],
      "execution_count": 0,
      "outputs": [
        {
          "output_type": "stream",
          "text": [
            "<class 'pandas.core.frame.DataFrame'>\n",
            "RangeIndex: 891 entries, 0 to 890\n",
            "Data columns (total 12 columns):\n",
            "PassengerId    891 non-null int64\n",
            "Survived       891 non-null int64\n",
            "Pclass         891 non-null int64\n",
            "Name           891 non-null object\n",
            "Sex            891 non-null object\n",
            "Age            714 non-null float64\n",
            "SibSp          891 non-null int64\n",
            "Parch          891 non-null int64\n",
            "Ticket         891 non-null object\n",
            "Fare           891 non-null float64\n",
            "Cabin          204 non-null object\n",
            "Embarked       889 non-null object\n",
            "dtypes: float64(2), int64(5), object(5)\n",
            "memory usage: 83.6+ KB\n",
            "None\n",
            "float64    2\n",
            "int64      5\n",
            "object     5\n",
            "dtype: int64\n"
          ],
          "name": "stdout"
        }
      ]
    },
    {
      "metadata": {
        "id": "Z7N7D433cez6",
        "colab_type": "text"
      },
      "cell_type": "markdown",
      "source": [
        "#### Describe the Data"
      ]
    },
    {
      "metadata": {
        "id": "Pugp7cI3cez9",
        "colab_type": "code",
        "colab": {},
        "outputId": "9d784e8b-a79a-4735-c4b4-6db11d2768c6"
      },
      "cell_type": "code",
      "source": [
        "###\n",
        "### Print the description of data\n",
        "### You should know what it means to describe a continuous attribute\n",
        "### And what it means to describe a discrete attribute\n",
        "### Make separate blocks for each of these\n",
        "#For Discrete Variables\n",
        "train.describe(include=[np.int64])"
      ],
      "execution_count": 0,
      "outputs": [
        {
          "output_type": "execute_result",
          "data": {
            "text/html": [
              "<div>\n",
              "<style scoped>\n",
              "    .dataframe tbody tr th:only-of-type {\n",
              "        vertical-align: middle;\n",
              "    }\n",
              "\n",
              "    .dataframe tbody tr th {\n",
              "        vertical-align: top;\n",
              "    }\n",
              "\n",
              "    .dataframe thead th {\n",
              "        text-align: right;\n",
              "    }\n",
              "</style>\n",
              "<table border=\"1\" class=\"dataframe\">\n",
              "  <thead>\n",
              "    <tr style=\"text-align: right;\">\n",
              "      <th></th>\n",
              "      <th>PassengerId</th>\n",
              "      <th>Survived</th>\n",
              "      <th>Pclass</th>\n",
              "      <th>SibSp</th>\n",
              "      <th>Parch</th>\n",
              "    </tr>\n",
              "  </thead>\n",
              "  <tbody>\n",
              "    <tr>\n",
              "      <th>count</th>\n",
              "      <td>891.000000</td>\n",
              "      <td>891.000000</td>\n",
              "      <td>891.000000</td>\n",
              "      <td>891.000000</td>\n",
              "      <td>891.000000</td>\n",
              "    </tr>\n",
              "    <tr>\n",
              "      <th>mean</th>\n",
              "      <td>446.000000</td>\n",
              "      <td>0.383838</td>\n",
              "      <td>2.308642</td>\n",
              "      <td>0.523008</td>\n",
              "      <td>0.381594</td>\n",
              "    </tr>\n",
              "    <tr>\n",
              "      <th>std</th>\n",
              "      <td>257.353842</td>\n",
              "      <td>0.486592</td>\n",
              "      <td>0.836071</td>\n",
              "      <td>1.102743</td>\n",
              "      <td>0.806057</td>\n",
              "    </tr>\n",
              "    <tr>\n",
              "      <th>min</th>\n",
              "      <td>1.000000</td>\n",
              "      <td>0.000000</td>\n",
              "      <td>1.000000</td>\n",
              "      <td>0.000000</td>\n",
              "      <td>0.000000</td>\n",
              "    </tr>\n",
              "    <tr>\n",
              "      <th>25%</th>\n",
              "      <td>223.500000</td>\n",
              "      <td>0.000000</td>\n",
              "      <td>2.000000</td>\n",
              "      <td>0.000000</td>\n",
              "      <td>0.000000</td>\n",
              "    </tr>\n",
              "    <tr>\n",
              "      <th>50%</th>\n",
              "      <td>446.000000</td>\n",
              "      <td>0.000000</td>\n",
              "      <td>3.000000</td>\n",
              "      <td>0.000000</td>\n",
              "      <td>0.000000</td>\n",
              "    </tr>\n",
              "    <tr>\n",
              "      <th>75%</th>\n",
              "      <td>668.500000</td>\n",
              "      <td>1.000000</td>\n",
              "      <td>3.000000</td>\n",
              "      <td>1.000000</td>\n",
              "      <td>0.000000</td>\n",
              "    </tr>\n",
              "    <tr>\n",
              "      <th>max</th>\n",
              "      <td>891.000000</td>\n",
              "      <td>1.000000</td>\n",
              "      <td>3.000000</td>\n",
              "      <td>8.000000</td>\n",
              "      <td>6.000000</td>\n",
              "    </tr>\n",
              "  </tbody>\n",
              "</table>\n",
              "</div>"
            ],
            "text/plain": [
              "       PassengerId    Survived      Pclass       SibSp       Parch\n",
              "count   891.000000  891.000000  891.000000  891.000000  891.000000\n",
              "mean    446.000000    0.383838    2.308642    0.523008    0.381594\n",
              "std     257.353842    0.486592    0.836071    1.102743    0.806057\n",
              "min       1.000000    0.000000    1.000000    0.000000    0.000000\n",
              "25%     223.500000    0.000000    2.000000    0.000000    0.000000\n",
              "50%     446.000000    0.000000    3.000000    0.000000    0.000000\n",
              "75%     668.500000    1.000000    3.000000    1.000000    0.000000\n",
              "max     891.000000    1.000000    3.000000    8.000000    6.000000"
            ]
          },
          "metadata": {
            "tags": []
          },
          "execution_count": 14
        }
      ]
    },
    {
      "metadata": {
        "id": "2iw_1Jw4ce0R",
        "colab_type": "code",
        "colab": {},
        "outputId": "b95127e3-217a-4a3d-e67f-de32bd1e5921"
      },
      "cell_type": "code",
      "source": [
        "### For Continuous Variable\n",
        "train.describe(include=[np.float64])"
      ],
      "execution_count": 0,
      "outputs": [
        {
          "output_type": "execute_result",
          "data": {
            "text/html": [
              "<div>\n",
              "<style scoped>\n",
              "    .dataframe tbody tr th:only-of-type {\n",
              "        vertical-align: middle;\n",
              "    }\n",
              "\n",
              "    .dataframe tbody tr th {\n",
              "        vertical-align: top;\n",
              "    }\n",
              "\n",
              "    .dataframe thead th {\n",
              "        text-align: right;\n",
              "    }\n",
              "</style>\n",
              "<table border=\"1\" class=\"dataframe\">\n",
              "  <thead>\n",
              "    <tr style=\"text-align: right;\">\n",
              "      <th></th>\n",
              "      <th>Age</th>\n",
              "      <th>Fare</th>\n",
              "    </tr>\n",
              "  </thead>\n",
              "  <tbody>\n",
              "    <tr>\n",
              "      <th>count</th>\n",
              "      <td>714.000000</td>\n",
              "      <td>891.000000</td>\n",
              "    </tr>\n",
              "    <tr>\n",
              "      <th>mean</th>\n",
              "      <td>29.699118</td>\n",
              "      <td>32.204208</td>\n",
              "    </tr>\n",
              "    <tr>\n",
              "      <th>std</th>\n",
              "      <td>14.526497</td>\n",
              "      <td>49.693429</td>\n",
              "    </tr>\n",
              "    <tr>\n",
              "      <th>min</th>\n",
              "      <td>0.420000</td>\n",
              "      <td>0.000000</td>\n",
              "    </tr>\n",
              "    <tr>\n",
              "      <th>25%</th>\n",
              "      <td>20.125000</td>\n",
              "      <td>7.910400</td>\n",
              "    </tr>\n",
              "    <tr>\n",
              "      <th>50%</th>\n",
              "      <td>28.000000</td>\n",
              "      <td>14.454200</td>\n",
              "    </tr>\n",
              "    <tr>\n",
              "      <th>75%</th>\n",
              "      <td>38.000000</td>\n",
              "      <td>31.000000</td>\n",
              "    </tr>\n",
              "    <tr>\n",
              "      <th>max</th>\n",
              "      <td>80.000000</td>\n",
              "      <td>512.329200</td>\n",
              "    </tr>\n",
              "  </tbody>\n",
              "</table>\n",
              "</div>"
            ],
            "text/plain": [
              "              Age        Fare\n",
              "count  714.000000  891.000000\n",
              "mean    29.699118   32.204208\n",
              "std     14.526497   49.693429\n",
              "min      0.420000    0.000000\n",
              "25%     20.125000    7.910400\n",
              "50%     28.000000   14.454200\n",
              "75%     38.000000   31.000000\n",
              "max     80.000000  512.329200"
            ]
          },
          "metadata": {
            "tags": []
          },
          "execution_count": 15
        }
      ]
    },
    {
      "metadata": {
        "id": "P1ePWU9oce0m",
        "colab_type": "code",
        "colab": {}
      },
      "cell_type": "code",
      "source": [
        "def AttributesDetail(df, pred=None): \n",
        "    obs = df.shape[0]\n",
        "    types = df.dtypes\n",
        "    counts = df.apply(lambda x: x.count())\n",
        "    uniques = df.apply(lambda x: [x.unique()])\n",
        "    nulls = df.apply(lambda x: x.isnull().sum())\n",
        "    distincts = df.apply(lambda x: x.unique().shape[0])\n",
        "    missing_ration = (df.isnull().sum()/ obs) * 100\n",
        "    print('Data shape:', df.shape)\n",
        "    \n",
        "    if pred is None:\n",
        "        cols = ['types', 'counts', 'distincts', 'nulls', 'missing ration', 'uniques']\n",
        "        str = pd.concat([types, counts, distincts, nulls, missing_ration, uniques], axis = 1)\n",
        "\n",
        "    else:\n",
        "        corr = df.corr()[pred]\n",
        "        str = pd.concat([types, counts, distincts, nulls, missing_ration, uniques, corr], axis = 1)\n",
        "        corr_col = 'corr '  + pred\n",
        "        cols = ['types', 'counts', 'distincts', 'nulls', 'missing_ration', 'uniques', corr_col ]\n",
        "    \n",
        "    str.columns = cols\n",
        "    dtypes = str.types.value_counts()\n",
        "    return str"
      ],
      "execution_count": 0,
      "outputs": []
    },
    {
      "metadata": {
        "id": "Tx8NRpNGce0y",
        "colab_type": "code",
        "colab": {},
        "outputId": "d908ee95-a12c-4065-ea6f-3cd6860569f2"
      },
      "cell_type": "code",
      "source": [
        "#Above function can be used to analyze relationship b/w different attributes and their features.\n",
        "details = AttributesDetail(train.loc[: ,'Survived' : 'Embarked'], 'Survived')\n",
        "details.sort_values(by='corr Survived', ascending=False)"
      ],
      "execution_count": 0,
      "outputs": [
        {
          "output_type": "stream",
          "text": [
            "Data shape: (891, 11)\n"
          ],
          "name": "stdout"
        },
        {
          "output_type": "execute_result",
          "data": {
            "text/html": [
              "<div>\n",
              "<style scoped>\n",
              "    .dataframe tbody tr th:only-of-type {\n",
              "        vertical-align: middle;\n",
              "    }\n",
              "\n",
              "    .dataframe tbody tr th {\n",
              "        vertical-align: top;\n",
              "    }\n",
              "\n",
              "    .dataframe thead th {\n",
              "        text-align: right;\n",
              "    }\n",
              "</style>\n",
              "<table border=\"1\" class=\"dataframe\">\n",
              "  <thead>\n",
              "    <tr style=\"text-align: right;\">\n",
              "      <th></th>\n",
              "      <th>types</th>\n",
              "      <th>counts</th>\n",
              "      <th>distincts</th>\n",
              "      <th>nulls</th>\n",
              "      <th>missing_ration</th>\n",
              "      <th>uniques</th>\n",
              "      <th>corr Survived</th>\n",
              "    </tr>\n",
              "  </thead>\n",
              "  <tbody>\n",
              "    <tr>\n",
              "      <th>Survived</th>\n",
              "      <td>int64</td>\n",
              "      <td>891</td>\n",
              "      <td>2</td>\n",
              "      <td>0</td>\n",
              "      <td>0.000000</td>\n",
              "      <td>[[0, 1]]</td>\n",
              "      <td>1.000000</td>\n",
              "    </tr>\n",
              "    <tr>\n",
              "      <th>Fare</th>\n",
              "      <td>float64</td>\n",
              "      <td>891</td>\n",
              "      <td>248</td>\n",
              "      <td>0</td>\n",
              "      <td>0.000000</td>\n",
              "      <td>[[7.25, 71.2833, 7.925, 53.1, 8.05, 8.4583, 51...</td>\n",
              "      <td>0.257307</td>\n",
              "    </tr>\n",
              "    <tr>\n",
              "      <th>Parch</th>\n",
              "      <td>int64</td>\n",
              "      <td>891</td>\n",
              "      <td>7</td>\n",
              "      <td>0</td>\n",
              "      <td>0.000000</td>\n",
              "      <td>[[0, 1, 2, 5, 3, 4, 6]]</td>\n",
              "      <td>0.081629</td>\n",
              "    </tr>\n",
              "    <tr>\n",
              "      <th>SibSp</th>\n",
              "      <td>int64</td>\n",
              "      <td>891</td>\n",
              "      <td>7</td>\n",
              "      <td>0</td>\n",
              "      <td>0.000000</td>\n",
              "      <td>[[1, 0, 3, 4, 2, 5, 8]]</td>\n",
              "      <td>-0.035322</td>\n",
              "    </tr>\n",
              "    <tr>\n",
              "      <th>Age</th>\n",
              "      <td>float64</td>\n",
              "      <td>714</td>\n",
              "      <td>89</td>\n",
              "      <td>177</td>\n",
              "      <td>19.865320</td>\n",
              "      <td>[[22.0, 38.0, 26.0, 35.0, nan, 54.0, 2.0, 27.0...</td>\n",
              "      <td>-0.077221</td>\n",
              "    </tr>\n",
              "    <tr>\n",
              "      <th>Pclass</th>\n",
              "      <td>int64</td>\n",
              "      <td>891</td>\n",
              "      <td>3</td>\n",
              "      <td>0</td>\n",
              "      <td>0.000000</td>\n",
              "      <td>[[3, 1, 2]]</td>\n",
              "      <td>-0.338481</td>\n",
              "    </tr>\n",
              "    <tr>\n",
              "      <th>Cabin</th>\n",
              "      <td>object</td>\n",
              "      <td>204</td>\n",
              "      <td>148</td>\n",
              "      <td>687</td>\n",
              "      <td>77.104377</td>\n",
              "      <td>[[nan, C85, C123, E46, G6, C103, D56, A6, C23 ...</td>\n",
              "      <td>NaN</td>\n",
              "    </tr>\n",
              "    <tr>\n",
              "      <th>Embarked</th>\n",
              "      <td>object</td>\n",
              "      <td>889</td>\n",
              "      <td>4</td>\n",
              "      <td>2</td>\n",
              "      <td>0.224467</td>\n",
              "      <td>[[S, C, Q, nan]]</td>\n",
              "      <td>NaN</td>\n",
              "    </tr>\n",
              "    <tr>\n",
              "      <th>Name</th>\n",
              "      <td>object</td>\n",
              "      <td>891</td>\n",
              "      <td>891</td>\n",
              "      <td>0</td>\n",
              "      <td>0.000000</td>\n",
              "      <td>[[Braund, Mr. Owen Harris, Cumings, Mrs. John ...</td>\n",
              "      <td>NaN</td>\n",
              "    </tr>\n",
              "    <tr>\n",
              "      <th>Sex</th>\n",
              "      <td>object</td>\n",
              "      <td>891</td>\n",
              "      <td>2</td>\n",
              "      <td>0</td>\n",
              "      <td>0.000000</td>\n",
              "      <td>[[male, female]]</td>\n",
              "      <td>NaN</td>\n",
              "    </tr>\n",
              "    <tr>\n",
              "      <th>Ticket</th>\n",
              "      <td>object</td>\n",
              "      <td>891</td>\n",
              "      <td>681</td>\n",
              "      <td>0</td>\n",
              "      <td>0.000000</td>\n",
              "      <td>[[A/5 21171, PC 17599, STON/O2. 3101282, 11380...</td>\n",
              "      <td>NaN</td>\n",
              "    </tr>\n",
              "  </tbody>\n",
              "</table>\n",
              "</div>"
            ],
            "text/plain": [
              "            types  counts  distincts  nulls  missing_ration  \\\n",
              "Survived    int64     891          2      0        0.000000   \n",
              "Fare      float64     891        248      0        0.000000   \n",
              "Parch       int64     891          7      0        0.000000   \n",
              "SibSp       int64     891          7      0        0.000000   \n",
              "Age       float64     714         89    177       19.865320   \n",
              "Pclass      int64     891          3      0        0.000000   \n",
              "Cabin      object     204        148    687       77.104377   \n",
              "Embarked   object     889          4      2        0.224467   \n",
              "Name       object     891        891      0        0.000000   \n",
              "Sex        object     891          2      0        0.000000   \n",
              "Ticket     object     891        681      0        0.000000   \n",
              "\n",
              "                                                    uniques  corr Survived  \n",
              "Survived                                           [[0, 1]]       1.000000  \n",
              "Fare      [[7.25, 71.2833, 7.925, 53.1, 8.05, 8.4583, 51...       0.257307  \n",
              "Parch                               [[0, 1, 2, 5, 3, 4, 6]]       0.081629  \n",
              "SibSp                               [[1, 0, 3, 4, 2, 5, 8]]      -0.035322  \n",
              "Age       [[22.0, 38.0, 26.0, 35.0, nan, 54.0, 2.0, 27.0...      -0.077221  \n",
              "Pclass                                          [[3, 1, 2]]      -0.338481  \n",
              "Cabin     [[nan, C85, C123, E46, G6, C103, D56, A6, C23 ...            NaN  \n",
              "Embarked                                   [[S, C, Q, nan]]            NaN  \n",
              "Name      [[Braund, Mr. Owen Harris, Cumings, Mrs. John ...            NaN  \n",
              "Sex                                        [[male, female]]            NaN  \n",
              "Ticket    [[A/5 21171, PC 17599, STON/O2. 3101282, 11380...            NaN  "
            ]
          },
          "metadata": {
            "tags": []
          },
          "execution_count": 18
        }
      ]
    },
    {
      "metadata": {
        "id": "mvZG3silce0_",
        "colab_type": "text"
      },
      "cell_type": "markdown",
      "source": [
        "#### Exploratory Data Analysis"
      ]
    },
    {
      "metadata": {
        "id": "ncKB3WXoce1C",
        "colab_type": "code",
        "colab": {},
        "outputId": "10c6aa6e-fc0e-4c48-fd6d-6f2056a5a446"
      },
      "cell_type": "code",
      "source": [
        "###\n",
        "### For this section you should plot 2 graphs for each attribute\n",
        "### First graph should display the distribution of data in each attribute\n",
        "### Second graph should display how the attribute changes with respect to target class\n",
        "###\n",
        "### Take advantage of matplotlib and any other plotting library\n",
        "### Remember your graph should be meaningful and properly labeled\n",
        "### You should understand that when the type of variable changes - it's representation also changes\n",
        "###\n",
        "### In some of the attributes you would discover that plotting them is not possible\n",
        "### Could you tell why plotting these attributes is not possible?\n",
        "### Is there any way to resolve this issue?\n",
        "###\n",
        "### Please remember not to make any changes in the original dataframe\n",
        "###\n",
        "gs = gridspec.GridSpec(138 , 130,hspace=1.5)\n",
        "#plt.subplots_adjust(left=0.125, bottom=0.4, right=0.9, top=0.5, wspace=1.2, hspace=0.1)\n",
        "\n",
        "fig = plt.figure(figsize=(15,18))\n",
        "\n",
        "ax1 = fig.add_subplot(421)\n",
        "sns.countplot(x = 'Pclass', hue = 'Survived', palette = 'Set1', data = train, ax=ax1)\n",
        "ax1.set(title = 'Passenger Survival on the basis of Pclass', \n",
        "    xlabel = 'Passenger Class', ylabel = 'Passanger Count')\n",
        "\n",
        "ax2 = fig.add_subplot(422)\n",
        "sns.countplot(x = 'Sex', hue = 'Survived', palette = 'Set1', data = train, ax=ax2)\n",
        "ax2.set(title = 'Passenger Survival on the basis of Sex', \n",
        "    xlabel = 'Passenger Sex', ylabel = 'Passanger Count')\n",
        "\n",
        "\n",
        "ax3 = fig.add_subplot(423)\n",
        "sns.countplot(x = 'SibSp', hue = 'Survived', palette = 'Set1', data = train, ax=ax3)\n",
        "ax3.set(title = 'Passenger Survival on the basis of SibSp', \n",
        "    xlabel = 'Passenger SibSp', ylabel = 'Passanger Count')\n",
        "\n",
        "ax3 = fig.add_subplot(423)\n",
        "sns.countplot(x = 'SibSp', hue = 'Survived', palette = 'Set1', data = train, ax=ax3)\n",
        "ax3.set(title = 'Passenger Survival on the basis of SibSp', \n",
        "    xlabel = 'Passenger SibSp', ylabel = 'Passanger Count')\n",
        "\n",
        "ax4 = fig.add_subplot(424)\n",
        "sns.countplot(x = 'Parch', hue = 'Survived', palette = 'Set2', data = train, ax=ax4)\n",
        "ax4.set(title = 'Passenger Survival on the basis of Parch', \n",
        "    xlabel = 'Passenger Parch', ylabel = 'Passanger Count')\n",
        "\n",
        "ax5 = fig.add_subplot(425)\n",
        "sns.countplot(x = 'Cabin', hue = 'Survived', palette = 'Set1', data = train, ax=ax5)\n",
        "ax5.set(title = 'Passenger Survival on the basis of Cabin', \n",
        "    xlabel = 'Passenger Cabin', ylabel = 'Passanger Count')\n",
        "\n"
      ],
      "execution_count": 0,
      "outputs": [
        {
          "output_type": "stream",
          "text": [
            "E:\\anaconda\\lib\\site-packages\\matplotlib\\cbook\\deprecation.py:106: MatplotlibDeprecationWarning: Adding an axes using the same arguments as a previous axes currently reuses the earlier instance.  In a future version, a new instance will always be created and returned.  Meanwhile, this warning can be suppressed, and the future behavior ensured, by passing a unique label to each axes instance.\n",
            "  warnings.warn(message, mplDeprecation, stacklevel=1)\n"
          ],
          "name": "stderr"
        },
        {
          "output_type": "execute_result",
          "data": {
            "text/plain": [
              "[Text(0,0.5,'Passanger Count'),\n",
              " Text(0.5,0,'Passenger Cabin'),\n",
              " Text(0.5,1,'Passenger Survival on the basis of Cabin')]"
            ]
          },
          "metadata": {
            "tags": []
          },
          "execution_count": 94
        },
        {
          "output_type": "display_data",
          "data": {
            "image/png": "[encoded data removed]",
            "text/plain": [
              "<matplotlib.figure.Figure at 0x2cd3dab1048>"
            ]
          },
          "metadata": {
            "tags": []
          }
        }
      ]
    },
    {
      "metadata": {
        "id": "JDYi2zBwce1Q",
        "colab_type": "code",
        "colab": {},
        "outputId": "ded23024-adc9-457c-ac2d-0bca9d40037f"
      },
      "cell_type": "code",
      "source": [
        "fig, ax =plt.subplots(1,2)\n",
        "sns.countplot(x = 'Pclass', hue = 'Survived', palette = 'Set1', data = train, ax=ax[0])\n",
        "ax[0].set(title = 'Passenger Survival on the basis of Pclass', \n",
        "    xlabel = 'Passenger Class', ylabel = 'Passanger Count')\n"
      ],
      "execution_count": 0,
      "outputs": [
        {
          "output_type": "execute_result",
          "data": {
            "text/plain": [
              "[Text(0,0.5,'Passanger Count'),\n",
              " Text(0.5,0,'Sex'),\n",
              " Text(0.5,1,'Passenger Survival on the basis of Sex')]"
            ]
          },
          "metadata": {
            "tags": []
          },
          "execution_count": 48
        },
        {
          "output_type": "display_data",
          "data": {
            "image/png": "[encoded data removed]",
            "text/plain": [
              "<matplotlib.figure.Figure at 0x2cd2ea8ba58>"
            ]
          },
          "metadata": {
            "tags": []
          }
        }
      ]
    },
    {
      "metadata": {
        "id": "bETFNV1rce1d",
        "colab_type": "text"
      },
      "cell_type": "markdown",
      "source": [
        "<h3> Great! Let's Keep Going </h3>\n",
        "* I hope now you have a good understanding of data.\n",
        "* Let's move to the next phase of data science"
      ]
    },
    {
      "metadata": {
        "id": "5MXu1q9cce1h",
        "colab_type": "text"
      },
      "cell_type": "markdown",
      "source": [
        "### Pre-processing"
      ]
    },
    {
      "metadata": {
        "id": "H1SmMZyYce1o",
        "colab_type": "code",
        "colab": {}
      },
      "cell_type": "code",
      "source": [
        "###\n",
        "### Check for duplicate rows. If found handle them.\n",
        "### Write your code here\n",
        "###"
      ],
      "execution_count": 0,
      "outputs": []
    },
    {
      "metadata": {
        "id": "kEIFuWe-ce14",
        "colab_type": "code",
        "colab": {}
      },
      "cell_type": "code",
      "source": [
        "###\n",
        "### Check for missing values. If found handle them in the best possible manner\n",
        "### Write your code here\n",
        "###"
      ],
      "execution_count": 0,
      "outputs": []
    },
    {
      "metadata": {
        "id": "yyFrALnnce2D",
        "colab_type": "code",
        "colab": {}
      },
      "cell_type": "code",
      "source": [
        "###\n",
        "### Check for outliers. If found handle them in the best possible manner\n",
        "### Write your code here\n",
        "###"
      ],
      "execution_count": 0,
      "outputs": []
    },
    {
      "metadata": {
        "id": "CsRYBYq4ce2b",
        "colab_type": "code",
        "colab": {}
      },
      "cell_type": "code",
      "source": [
        "###\n",
        "### Check for any other data quality issues\n",
        "### Report these issues and also resolve them\n",
        "### Write your code here\n",
        "###"
      ],
      "execution_count": 0,
      "outputs": []
    },
    {
      "metadata": {
        "id": "PMZlpVVCce2r",
        "colab_type": "text"
      },
      "cell_type": "markdown",
      "source": [
        "#### Feature Selection"
      ]
    },
    {
      "metadata": {
        "id": "YL_lRYV8ce2w",
        "colab_type": "code",
        "colab": {}
      },
      "cell_type": "code",
      "source": [
        "### \n",
        "### Do you think that all features are important in this scenario?\n",
        "###\n",
        "### Try to identify imoprtant features.\n",
        "### Give detail of the technique you apply.\n",
        "### You can search online for different ways.\n",
        "###\n",
        "### Write your code here\n",
        "###"
      ],
      "execution_count": 0,
      "outputs": []
    },
    {
      "metadata": {
        "id": "JAp7qOKFce3D",
        "colab_type": "code",
        "colab": {}
      },
      "cell_type": "code",
      "source": [
        "###\n",
        "### Before you build your model\n",
        "### Please give a short description of attributes you wish to choose\n",
        "### Also state reason for choosing them\n",
        "###\n",
        "### Write your answer here\n",
        "###"
      ],
      "execution_count": 0,
      "outputs": []
    },
    {
      "metadata": {
        "id": "ZYPFwSUoce3R",
        "colab_type": "text"
      },
      "cell_type": "markdown",
      "source": [
        "#### Building a Decision Tree Model"
      ]
    },
    {
      "metadata": {
        "id": "1oIwkdskce3Z",
        "colab_type": "text"
      },
      "cell_type": "markdown",
      "source": [
        "Decision Trees (DTs) are a non-parametric supervised learning method used for classification. The goal is to create a model that predicts the value of a target variable by learning simple decision rules inferred from the data features.\n",
        "\n",
        "* Decision Trees are very flexible, and expressive classifiers.\n",
        "* They can accommodate any kind of data i.e numeric, categorical and e.t.c.\n",
        "* They can accommodate any number of classes,they are inherently multi-class\n",
        "* Most importantly, they are **extremely interpretable**"
      ]
    },
    {
      "metadata": {
        "id": "R6xc0leDce3e",
        "colab_type": "code",
        "colab": {}
      },
      "cell_type": "code",
      "source": [
        "### \n",
        "### Before you train your model, split the data in training and testing set. \n",
        "### You would end up with 4 slices of data\n",
        "### X_train = contains training features\n",
        "### y_train = contains training labels\n",
        "### Y_train = contains testing features\n",
        "### y_test = contains testing labels\n",
        "###\n",
        "### Write your code here\n",
        "###"
      ],
      "execution_count": 0,
      "outputs": []
    },
    {
      "metadata": {
        "id": "i5Hoq_5_ce3q",
        "colab_type": "code",
        "colab": {}
      },
      "cell_type": "code",
      "source": [
        "### \n",
        "### Using sklearn train a simple decision Tree Classifier on training data\n",
        "### Use default settings and do not change any parameters of the module\n",
        "###\n",
        "### Write your code here \n",
        "###"
      ],
      "execution_count": 0,
      "outputs": []
    },
    {
      "metadata": {
        "id": "of5LZS9Dce34",
        "colab_type": "code",
        "colab": {}
      },
      "cell_type": "code",
      "source": [
        "###\n",
        "### Points To Ponder:\n",
        "### \n",
        "### Can you pass categorical(in string format) data to machine learning model.\n",
        "### If Yes. Then I definetly need to learn something from you.\n",
        "### If No. Explain that error and how you handled that error?\n",
        "###"
      ],
      "execution_count": 0,
      "outputs": []
    },
    {
      "metadata": {
        "id": "pLtzQDWCce4O",
        "colab_type": "text"
      },
      "cell_type": "markdown",
      "source": [
        "#### Report Accuracy For Decision Tree"
      ]
    },
    {
      "metadata": {
        "id": "ApsBMSt2ce4S",
        "colab_type": "code",
        "colab": {}
      },
      "cell_type": "code",
      "source": [
        "###\n",
        "### Report your accuracy for training set and testing set both\n",
        "### i.e. \n",
        "### Training Accuracy = ???\n",
        "### Testing Accuracy = ???\n",
        "###"
      ],
      "execution_count": 0,
      "outputs": []
    },
    {
      "metadata": {
        "id": "DttPTdiVce4h",
        "colab_type": "text"
      },
      "cell_type": "markdown",
      "source": [
        "#### Building a Simple Linear Model"
      ]
    },
    {
      "metadata": {
        "id": "Xqb4MJuece4n",
        "colab_type": "text"
      },
      "cell_type": "markdown",
      "source": [
        "As a starter to linear models, we will be using a simple linear model called **Logistic Regression.** \n",
        "* Logistic regression is a classification algorithm used to assign observations to a discrete set of classes. \n",
        "* Logistic regression transforms its output using the logistic sigmoid function to return a probability value which can then be mapped to two or more discrete classes.\n",
        "* This all might be very new to you. So for the time being, just consider **Logistic Regression as a linear classifier that classifies that a passenger survived or not survived.**\n",
        "* <font color='red'> Please do not complain if you haven't studied Logistic Regression. It's not a big deal, just Google it!"
      ]
    },
    {
      "metadata": {
        "id": "kHhfWduBce4q",
        "colab_type": "code",
        "colab": {}
      },
      "cell_type": "code",
      "source": [
        "### \n",
        "### Using sklearn\n",
        "### Train a simple Logistic Regression Model on training data\n",
        "### Use default settings and do not change any parameters of the module\n",
        "### "
      ],
      "execution_count": 0,
      "outputs": []
    },
    {
      "metadata": {
        "id": "2OyQB1nece5F",
        "colab_type": "text"
      },
      "cell_type": "markdown",
      "source": [
        "#### Report Accuracy For Logistic Regression"
      ]
    },
    {
      "metadata": {
        "id": "lA-tEcp0ce5K",
        "colab_type": "code",
        "colab": {}
      },
      "cell_type": "code",
      "source": [
        "###\n",
        "### Report your accuracy for training set and testing set both\n",
        "### i.e. \n",
        "### Training Accuracy = ???\n",
        "### Testing Accuracy = ???\n",
        "###"
      ],
      "execution_count": 0,
      "outputs": []
    },
    {
      "metadata": {
        "id": "FZHIycEuce5Y",
        "colab_type": "text"
      },
      "cell_type": "markdown",
      "source": [
        "#### Comparison "
      ]
    },
    {
      "metadata": {
        "id": "0oPgxAYfce5c",
        "colab_type": "code",
        "colab": {}
      },
      "cell_type": "code",
      "source": [
        "###\n",
        "### Plot a graph that clearly shows the testing accuracy comparison of both models.\n",
        "### It should be properly labeled and intuitive.\n",
        "###"
      ],
      "execution_count": 0,
      "outputs": []
    },
    {
      "metadata": {
        "id": "OdThm-hcce5x",
        "colab_type": "text"
      },
      "cell_type": "markdown",
      "source": [
        "#### Feedback"
      ]
    },
    {
      "metadata": {
        "id": "lO0dCirlce54",
        "colab_type": "text"
      },
      "cell_type": "markdown",
      "source": [
        "Dear participant, \n",
        "\n",
        "Please provide an honest and constructive feedback for the above test.\n",
        "\n",
        "Was it helpful?\n",
        "\n",
        "Was the time enough?\n",
        "\n",
        "Was it challenging?\n",
        "\n",
        "Did you learn something out of it?\n",
        "\n",
        "Did you had problem understanding the notebook?\n",
        "\n",
        "If there was something ambiguous. Please report.\n",
        "\n",
        "What improvements do you suggest?\n",
        "\n",
        "Any other comments you would like to add?\n"
      ]
    },
    {
      "metadata": {
        "id": "q6TI3hkXce5-",
        "colab_type": "code",
        "colab": {}
      },
      "cell_type": "code",
      "source": [
        "###\n",
        "### Please provide your feedback in here\n",
        "###"
      ],
      "execution_count": 0,
      "outputs": []
    },
    {
      "metadata": {
        "id": "6UCf-SQmce6M",
        "colab_type": "text"
      },
      "cell_type": "markdown",
      "source": [
        "#### Conclusion"
      ]
    },
    {
      "metadata": {
        "id": "CGgOH1-Zce6Q",
        "colab_type": "text"
      },
      "cell_type": "markdown",
      "source": [
        "* This was an introductory notebook to real world data science problems.\n",
        "* We skipped some concepts but will go through them in future.\n",
        "* However, if you have reached so far. **Great Work!!!**\n",
        "<br><br>\n",
        "<img src=\"img/great-work.jpg\">\n"
      ]
    },
    {
      "metadata": {
        "id": "k58FBvgPce6S",
        "colab_type": "text"
      },
      "cell_type": "markdown",
      "source": [
        "#### References"
      ]
    },
    {
      "metadata": {
        "id": "cVOPPOWace6X",
        "colab_type": "text"
      },
      "cell_type": "markdown",
      "source": [
        "[1] https://www.ibm.com/developerworks/library/ba-intro-data-science-1/index.html\n",
        "<br>\n",
        "[2] http://ml-cheatsheet.readthedocs.io/en/latest/logistic_regression.html\n",
        "<br>\n",
        "[3] https://medium.com/ibm-data-science-experience/markdown-for-jupyter-notebooks-cheatsheet-386c05aeebed\n",
        "<br>\n",
        "[4] Tan, Pang-Ning. Introduction to data mining. Pearson Education India, 2006.\n",
        "<br>\n",
        "[5] T. Hastie, R. Tibshirani and J. Friedman. Elements of Statistical Learning, Springer, 2009.\n",
        "<br>\n",
        "[6] http://scikit-learn.org/stable/modules/tree.html\n",
        "<br>\n",
        "[7] J.R. Quinlan. C4. 5: programs for machine learning. Morgan Kaufmann, 1993.\n",
        "<br>\n",
        "[8] L. Breiman, J. Friedman, R. Olshen, and C. Stone. Classification and Regression Trees. Wadsworth, Belmont, CA, 1984.\n",
        "<br>\n",
        "[9] http://scikit-learn.org/stable/modules/generated/sklearn.tree.DecisionTreeClassifier.html\n",
        "<br>\n",
        "[10] http://scikit-learn.org/stable/modules/generated/sklearn.linear_model.LogisticRegression.html\n",
        "<br>\n",
        "[11] http://scikit-learn.org/stable/modules/generated/sklearn.model_selection.train_test_split.html\n",
        "<br>\n",
        "[12] https://matplotlib.org/contents.html\n",
        "<br>\n",
        "[13] https://docs.scipy.org/doc/numpy/reference/index.html\n",
        "<br>\n",
        "[14] http://pandas.pydata.org/pandas-docs/stable/\n",
        "<br>\n",
        "[15] http://scikit-learn.org/stable/modules/generated/sklearn.metrics.accuracy_score.html"
      ]
    },
    {
      "metadata": {
        "id": "SAdn_vSHce6b",
        "colab_type": "text"
      },
      "cell_type": "markdown",
      "source": [
        "This notebook has been prepared by:<br><br>\n",
        "**Faizan Saeed**<br>\n",
        "**Graduate Fellow**<br>\n",
        "**Data Science Lab**<br><br>\n",
        "In case of any issue, please e-mail at: **MSDS17005@ITU.EDU.PK**"
      ]
    }
  ]
}